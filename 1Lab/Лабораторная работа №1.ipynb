{
 "cells": [
  {
   "cell_type": "markdown",
   "metadata": {},
   "source": [
    "# 1 задание"
   ]
  },
  {
   "cell_type": "code",
   "execution_count": 4,
   "metadata": {},
   "outputs": [],
   "source": [
    "import re\n",
    "\n",
    "\n",
    "def read_file():\n",
    "    with open('first_task.txt', encoding=\"utf-8\") as file:\n",
    "        return file.readlines()\n",
    "\n",
    "def text_to_words(lines):\n",
    "    words = []\n",
    "    for line in lines:\n",
    "        words += (line.replace(r\"[?.,!-']\",\"\").lower().strip()).split(' ')\n",
    "    return words\n",
    "\n",
    "def calc_sentence_count(lines):\n",
    "    sentence_count = 0\n",
    "    for line in lines:\n",
    "        sentence = re.split(r\"[.?!]\",line)\n",
    "        sentence_count += len(sentence)\n",
    "    return sentence_count\n",
    "\n",
    "def calc_word_frequency(words):\n",
    "    word_freq = {}\n",
    "    for word in words:\n",
    "        if len(word) == 0:\n",
    "            continue\n",
    "        if word in word_freq:\n",
    "            word_freq[word] += 1\n",
    "        else:\n",
    "            word_freq[word] = 1\n",
    "\n",
    "    return(sorted(word_freq.items(), key=lambda x: x[1], reverse=True))\n",
    "\n",
    "def write_files(word_frequency, mean_words_sentence):\n",
    "    with open(\"results/first_task_result.txt\", \"w\", encoding='utf-8') as file:\n",
    "        for key, value in word_frequency:\n",
    "            file.write(f\"{key}:{value}\\n\")\n",
    "    with open(\"results/first_task_mean_words_sentence.txt\", \"w\", encoding='utf-8') as file:\n",
    "        file.write(f'Cреднее количество слов в предложениях - {mean_words_sentence}')\n",
    "\n",
    "        \n",
    "\n",
    "file = read_file()\n",
    "words = text_to_words(file)\n",
    "sentence_count = calc_sentence_count(file)\n",
    "word_frequency = calc_word_frequency(words)\n",
    "mean_words_sentence = len(words) / sentence_count\n",
    "write_files(word_frequency, mean_words_sentence)"
   ]
  },
  {
   "cell_type": "markdown",
   "metadata": {},
   "source": [
    "# 2 задание"
   ]
  },
  {
   "cell_type": "code",
   "execution_count": 6,
   "metadata": {},
   "outputs": [],
   "source": [
    "import math\n",
    "\n",
    "\n",
    "def read_file():\n",
    "    with open('second_task.txt', encoding=\"utf-8\") as file:\n",
    "        return file.readlines()\n",
    "        \n",
    "def calc_division_part_sum_sqrt_of_positive_numbers(file):\n",
    "    nums = []\n",
    "    for line in file:\n",
    "        nums.append(list(map(int, line.strip().split(\" \"))))\n",
    "    positive_numbers = [[num for num in sublist if num > 0] for sublist in nums]\n",
    "    division_part_sum_sqrt_of_positive_numbers = []\n",
    "    for sublist in positive_numbers:\n",
    "        sum_sqrt = sum(math.sqrt(num) for num in sublist)\n",
    "        division_part_sum_sqrt_of_positive_numbers.append(math.trunc(sum_sqrt))\n",
    "    return sorted(division_part_sum_sqrt_of_positive_numbers, reverse=True)\n",
    "\n",
    "def write_file(stat):\n",
    "    with open(\"results/second_task_result.txt\", \"w\", encoding='utf-8') as file:\n",
    "        for i in range(len(stat)):\n",
    "            if i < 3:\n",
    "                file.write(f\"{stat[i]}\\n\")\n",
    "            else:\n",
    "                file.write(f\"-----------\\n\")\n",
    "                file.write(f\"{stat[9]}\\n\")\n",
    "                break\n",
    "\n",
    "file = read_file()\n",
    "division_part_sum_sqrt_of_positive_numbers = calc_division_part_sum_sqrt_of_positive_numbers(file)\n",
    "write_file(division_part_sum_sqrt_of_positive_numbers)"
   ]
  },
  {
   "cell_type": "markdown",
   "metadata": {},
   "source": [
    "# 3 задание"
   ]
  },
  {
   "cell_type": "code",
   "execution_count": 8,
   "metadata": {},
   "outputs": [],
   "source": [
    "def read_file():\n",
    "    tebel = []\n",
    "    with open('third_task.txt', encoding=\"utf-8\") as file:\n",
    "        lines = file.readlines()\n",
    "        for line in lines:\n",
    "            cols = line.split(\" \")\n",
    "            tebel.append(cols)\n",
    "\n",
    "        return tebel\n",
    "\n",
    "def fill_na(table):\n",
    "    for i in range(len(table)):\n",
    "        for j in range(len(table[i])):\n",
    "            if table[i][j] == 'N/A':\n",
    "                table[i][j] = (int(table[i][j-1]) + int(table[i][j+1])) / 2\n",
    "            else:\n",
    "                table[i][j] = int(table[i][j])\n",
    "\n",
    "def calc_result(file):\n",
    "    result = []\n",
    "    for row in file:\n",
    "        count = 0\n",
    "        sum = 0\n",
    "        for num in row:\n",
    "            if num > 0 and num % 2 == 0:\n",
    "                count += 1\n",
    "                sum += num\n",
    "        result.append(sum / count)\n",
    "\n",
    "    return result\n",
    "\n",
    "def write_file(stat):\n",
    "    with open(\"results/third_task_result.txt\", \"w\", encoding='utf-8') as file:\n",
    "        for val in stat:\n",
    "            file.write(f\"{val}\\n\")\n",
    "\n",
    "file = read_file()\n",
    "fill_na(file)\n",
    "result = calc_result(file)\n",
    "write_file(result)"
   ]
  },
  {
   "cell_type": "markdown",
   "metadata": {},
   "source": [
    "# 4 задание"
   ]
  },
  {
   "cell_type": "code",
   "execution_count": 10,
   "metadata": {},
   "outputs": [],
   "source": [
    "import pandas as pd\n",
    "\n",
    "\n",
    "def read_file():\n",
    "    return pd.read_csv('fourth_task.txt', sep= ',', index_col=False)\n",
    "\n",
    "def drop_column(df):\n",
    "    df.drop('expiration_date', axis=1, inplace = True)\n",
    "\n",
    "def calc_mean_max_min(df):\n",
    "    rez = []\n",
    "    rez.append(df.price.mean())\n",
    "    rez.append(df.quantity.max())\n",
    "    rez.append(df.price.min())\n",
    "    return rez\n",
    "\n",
    "def filters(df):\n",
    "    return df[df.category == \"Молочные продукты\"]\n",
    "\n",
    "def write_files(df_filtered, mean_max_min):\n",
    "    df_filtered.to_csv(\"results/fourth_task_result.txt\", sep=\" \", index=False)\n",
    "    with open(\"results/fourth_task_mean_max_min.txt\", \"w\", encoding='utf-8') as file:\n",
    "        for value in mean_max_min:\n",
    "            file.write(f\"{value}\\n\")\n",
    "\n",
    "df = read_file()\n",
    "drop_column(df)\n",
    "mean_max_min = calc_mean_max_min(df)\n",
    "df_filtered = filters(df)\n",
    "write_files(df_filtered, mean_max_min)"
   ]
  },
  {
   "cell_type": "markdown",
   "metadata": {},
   "source": [
    "# 5 задание"
   ]
  },
  {
   "cell_type": "code",
   "execution_count": 12,
   "metadata": {},
   "outputs": [
    {
     "name": "stderr",
     "output_type": "stream",
     "text": [
      "C:\\Users\\someunknown\\AppData\\Local\\Temp\\ipykernel_31768\\4050299848.py:11: FutureWarning: Passing literal html to 'read_html' is deprecated and will be removed in a future version. To read from a literal string, wrap it in a 'StringIO' object.\n",
      "  return pd.read_html(str(table))[0]\n"
     ]
    }
   ],
   "source": [
    "import pandas as pd\n",
    "from bs4 import BeautifulSoup\n",
    "\n",
    "def read_file():\n",
    "    with open('fifth_task.html', 'r', encoding='utf-8') as file:\n",
    "        return file.read()\n",
    "\n",
    "def parse_html_to_table(file):\n",
    "    soup = BeautifulSoup(file, 'html.parser')\n",
    "    table = soup.find('table')\n",
    "    return pd.read_html(str(table))[0]\n",
    "\n",
    "def write_file(df):\n",
    "    df.to_csv('results/fifth_task_result.csv', index=False)\n",
    "\n",
    "file = read_file()\n",
    "df = parse_html_to_table(file)\n",
    "write_file(df)"
   ]
  },
  {
   "cell_type": "markdown",
   "metadata": {},
   "source": [
    "# 6 задание"
   ]
  },
  {
   "cell_type": "code",
   "execution_count": 14,
   "metadata": {
    "editable": true,
    "slideshow": {
     "slide_type": ""
    },
    "tags": []
   },
   "outputs": [],
   "source": [
    "import requests\n",
    "import pandas as pd\n",
    "\n",
    "# Запрос данных\n",
    "response = requests.get('https://jsonplaceholder.typicode.com/todos')\n",
    "data = response.json()\n",
    "\n",
    "# Преобразование в датафрейм\n",
    "df = pd.json_normalize(data)  # Преобразуем JSON в табличный вид\n",
    "\n",
    "# Генерация html\n",
    "html_content = df.to_html(index=False, border=1, justify=\"center\", classes=\"table\")\n",
    "\n",
    "# Сохранение файла\n",
    "with open('results/sixth_task_result.html', \"w\", encoding=\"utf-8\") as file:\n",
    "    file.write(html_content)"
   ]
  },
  {
   "cell_type": "code",
   "execution_count": null,
   "metadata": {},
   "outputs": [],
   "source": []
  }
 ],
 "metadata": {
  "colab": {
   "collapsed_sections": [],
   "name": "homework.ipynb",
   "provenance": []
  },
  "kernelspec": {
   "display_name": "Python 3 (ipykernel)",
   "language": "python",
   "name": "python3"
  },
  "language_info": {
   "codemirror_mode": {
    "name": "ipython",
    "version": 3
   },
   "file_extension": ".py",
   "mimetype": "text/x-python",
   "name": "python",
   "nbconvert_exporter": "python",
   "pygments_lexer": "ipython3",
   "version": "3.12.7"
  }
 },
 "nbformat": 4,
 "nbformat_minor": 4
}
